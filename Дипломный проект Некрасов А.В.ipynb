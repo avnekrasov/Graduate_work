{
 "cells": [
  {
   "cell_type": "markdown",
   "id": "bf408119",
   "metadata": {},
   "source": [
    "# Дипломный проект Некрасов А.В."
   ]
  },
  {
   "attachments": {},
   "cell_type": "markdown",
   "id": "0a936181",
   "metadata": {},
   "source": [
    "## Predicting flight delays\n",
    "Данные - https://www.kaggle.com/usdot/flight-delays\n",
    "Описание - Сводная информация о количестве своевременных, задержанных, отмененных и измененных рейсов в США за 2015 год (5.8 млн записей)"
   ]
  },
  {
   "attachments": {},
   "cell_type": "markdown",
   "id": "682a56a8",
   "metadata": {},
   "source": [
    "### Задачи:\n",
    "\n",
    "1 Найти аэропорт с минимальной задержкой вылета\n",
    "\n",
    "2 Самая пунктуальная авиакомпания на прилет в Los Angeles International Airport\n",
    "\n",
    "3 Найти аэропорт, где самолёты проводят больше всего времени на рулении (среднее значение)\n",
    "\n",
    "4 Построить модель которая будет выбирать топ 3 аэропорта прилета (вероятность опоздания минимальная – RMSE метрика),  в зависимости от аэропорта вылета  "
   ]
  },
  {
   "cell_type": "markdown",
   "id": "ed259a3b",
   "metadata": {},
   "source": [
    "#### Ход работ"
   ]
  },
  {
   "cell_type": "markdown",
   "id": "c3512cd4",
   "metadata": {},
   "source": [
    "Импортируем необходимые билиотеки"
   ]
  },
  {
   "cell_type": "code",
   "execution_count": 3,
   "id": "0546d7f8",
   "metadata": {},
   "outputs": [],
   "source": [
    "import datetime, warnings, scipy \n",
    "import pandas as pd\n",
    "import numpy as np\n",
    "import seaborn as sns\n",
    "import matplotlib as mpl\n",
    "import matplotlib.pyplot as plt\n",
    "import matplotlib.patches as patches\n",
    "from matplotlib.patches import ConnectionPatch\n",
    "from collections import OrderedDict\n",
    "from matplotlib.gridspec import GridSpec\n",
    "#from mpl_toolkits.basemap import Basemap\n",
    "from sklearn import metrics, linear_model\n",
    "from sklearn.preprocessing import PolynomialFeatures, StandardScaler\n",
    "from sklearn.preprocessing import LabelEncoder, OneHotEncoder\n",
    "from sklearn.model_selection import train_test_split, cross_val_score, cross_val_predict\n",
    "from scipy.optimize import curve_fit\n",
    "plt.rcParams[\"patch.force_edgecolor\"] = True\n",
    "plt.style.use('fivethirtyeight')\n",
    "mpl.rc('patch', edgecolor = 'dimgray', linewidth=1)\n",
    "from IPython.core.interactiveshell import InteractiveShell\n",
    "InteractiveShell.ast_node_interactivity = \"last_expr\"\n",
    "pd.options.display.max_columns = 50\n",
    "%matplotlib inline\n",
    "warnings.filterwarnings(\"ignore\")"
   ]
  },
  {
   "cell_type": "code",
   "execution_count": null,
   "id": "890a48da",
   "metadata": {},
   "outputs": [],
   "source": [
    "df = pd.read_csv('flights.csv', low_memory=False)"
   ]
  },
  {
   "cell_type": "code",
   "execution_count": null,
   "id": "60791427",
   "metadata": {},
   "outputs": [],
   "source": [
    "tab_info=pd.DataFrame(df.dtypes).T.rename(index={0:'column type'})\n",
    "tab_info=tab_info.append(pd.DataFrame(df.isnull().sum()).T.rename(index={0:'null values (nb)'}))\n",
    "tab_info=tab_info.append(pd.DataFrame(df.isnull().sum()/df.shape[0]*100)\n",
    "                         .T.rename(index={0:'null values (%)'}))\n",
    "tab_info"
   ]
  },
  {
   "cell_type": "code",
   "execution_count": null,
   "id": "62bba2da",
   "metadata": {},
   "outputs": [],
   "source": [
    "df"
   ]
  },
  {
   "cell_type": "markdown",
   "id": "ea67a469",
   "metadata": {},
   "source": [
    "#### Data Definition\n",
    "\n",
    "WHEELS_OFF Time - The time point that the aircraft's wheels leave the ground.\n",
    "\n",
    "WHEELS_ON Time - The time point that the aircraft's wheels touch on the ground.\n",
    "\n",
    "TAXI_OUT Time - The time duration elapsed between departure from the origin airport gate and wheels off.\n",
    "\n",
    "TAXI_IN Time - The time duration elapsed between wheels-on and gate arrival at the destination airport.\n",
    "\n",
    "AIR_TIME - The time duration between wheels_off and wheels_on time."
   ]
  },
  {
   "cell_type": "markdown",
   "id": "47ec6cc7",
   "metadata": {},
   "source": [
    "#### Data Relationship\n",
    "\n",
    "arrival_time = wheels_on + taxi_in\n",
    "\n",
    "arrival_delay = arrival_time - scheduled_arrival\n",
    "\n",
    "departure_time = wheels_off - taxi_out\n",
    "\n",
    "departure_delay = departure_time - scheduled_departure\n",
    "\n",
    "elapsed_time =air_time + taxi_in + taxi_out\n",
    "\n",
    "air_time = wheels_on - wheels_off"
   ]
  },
  {
   "cell_type": "code",
   "execution_count": null,
   "id": "4a143593",
   "metadata": {},
   "outputs": [],
   "source": []
  }
 ],
 "metadata": {
  "kernelspec": {
   "display_name": "Python 3 (ipykernel)",
   "language": "python",
   "name": "python3"
  },
  "language_info": {
   "codemirror_mode": {
    "name": "ipython",
    "version": 3
   },
   "file_extension": ".py",
   "mimetype": "text/x-python",
   "name": "python",
   "nbconvert_exporter": "python",
   "pygments_lexer": "ipython3",
   "version": "3.10.9"
  }
 },
 "nbformat": 4,
 "nbformat_minor": 5
}
